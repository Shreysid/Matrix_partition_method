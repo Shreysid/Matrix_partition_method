#library imports
import numpy as np
from numpy.linalg import inv

#input for matrix A
A = []
print("Please give the enteries of the matrix row wise")

for i in range(3):          # A for loop for row entries
    a =[]
    for j in range(3):      # A for loop for column entries
         a.append(int(input()))
    A.append(a)
print()
print("The matrix A is")
print()
# For printing the matrix
for i in range(3):
    for j in range(3):
        print(A[i][j], end = " ")
    print()

print()

#getting the right side values of the systme of linear equations
print("Enter the constant matrix")
constmatrix = []

for i in range(0, 3):
    # print("Enter number at index", i, )
    item = int(input())
    constmatrix.append(item)
print("solution of a matrix ", constmatrix)


#Matrix B values
print("matrix B is")

B = []
for i in range(0,2):
  a = []
  for j in range(0,2):
    a.append(A[i][j])
  B.append(a)

print()

for i in range(2):
    for j in range(2):
        print(B[i][j], end = " ")
    print()

#Matrix C values

print("matrix C is")

C = []
for i in range(0,2):
  a = []
  for j in range(2,3):
    a.append(A[i][j])
  C.append(a)

print()

for i in range(2):
    for j in range(1):
        print(C[i][j], end = " ")
    print()

#Matrix D values

print("matrix D is")

D = []
for i in range(2,3):
  a = []
  for j in range(2,3):
    a.append(A[i][j])
  D.append(a)

print()

for i in range(1):
    for j in range(1):
        print(D[i][j], end = " ")
    print()

#Matrix E values

print("matrix E is")

E = []
for i in range(2,3):
  a = []
  for j in range(0,2):
    a.append(A[i][j])
  E.append(a)

print()

for i in range(1):
    for j in range(2):
        print(E[i][j], end = " ")
    print()

#finding inverse of matrix A
Atemp = np.array(A)
Ainv = (np.linalg.inv(Atemp))
print("Inverse of A is")
print()
print(Ainv)

#Matrix X
X = []
Btemp = np.array(B)
# Binv = (np.linalg.inv(Btemp))
print(Btemp)

#printing out the answer
res = np.dot(Ainv,constmatrix)

print(res)
